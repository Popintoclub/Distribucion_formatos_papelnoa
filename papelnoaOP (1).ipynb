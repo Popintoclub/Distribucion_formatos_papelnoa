{
  "nbformat": 4,
  "nbformat_minor": 5,
  "metadata": {
    "kernelspec": {
      "display_name": "Python 3",
      "language": "python",
      "name": "python3"
    },
    "language_info": {
      "codemirror_mode": {
        "name": "ipython",
        "version": 3
      },
      "file_extension": ".py",
      "mimetype": "text/x-python",
      "name": "python",
      "nbconvert_exporter": "python",
      "pygments_lexer": "ipython3",
      "version": "3.8.8"
    },
    "colab": {
      "name": "papelnoaOP.ipynb",
      "provenance": []
    }
  },
  "cells": [
    {
      "cell_type": "code",
      "metadata": {
        "colab": {
          "base_uri": "https://localhost:8080/"
        },
        "id": "0dafef3e-87c7-4019-bf81-2d0b7a5d6c80",
        "outputId": "c00a450e-8a37-4586-ea1b-1440ed596c48",
        "cellView": "form"
      },
      "source": [
        "#@title Funcionnes:  Se debe agregar un archivo con el nombre pedidos.xlsx en donde las columnas importantes son \"FTO\" para los formatos, \"Saldo\" para los KG a producir y \"IV\" con los IV de los clientes.\n",
        "\n",
        "\n",
        "!pip install pulp\n",
        "import pandas as pd\n",
        "from pulp import *\n",
        "import operator\n",
        "from itertools import chain\n",
        "from collections import defaultdict\n",
        "\n",
        "def ordenamiento(ordenes, peso, b, d, cliente ):        \n",
        "        diccionario = {}\n",
        "        m = sum(d)\n",
        "        bobinas0 = []\n",
        "        kilos0 = []\n",
        "        cortes0 = []\n",
        "        kiloporbob0 = []\n",
        "        kilosprod0 = []\n",
        "        valores0 = []      \n",
        "        for i in range(len(cliente)):\n",
        "            diccionario[cliente[i]] = b[i],d[i]\n",
        "            \n",
        "        for i in range(len(d)):\n",
        "            x = d[i]/((b[i]*(peso/2))/383)\n",
        "            y = d[i]\n",
        "            z = b[i]\n",
        "            k = ((b[i]*(peso/2))/383)\n",
        "            bobinas0.append(round(x))\n",
        "            kilos0.append(y)\n",
        "            cortes0.append(round(z))\n",
        "            kiloporbob0.append(round(k))\n",
        "            \n",
        "        for i in range(len(cortes0)):\n",
        "            f = kiloporbob0[i] * bobinas0[i]\n",
        "            kilosprod0.append(f)\n",
        "            \n",
        "        for i in range(len(cortes0)):\n",
        "            a = (kilos0[i], kilosprod0[i], bobinas0[i], kiloporbob0[i])\n",
        "            valores0.append(a) \n",
        "\n",
        "        dictutil0 ={\"IV\":cliente,\"formato\":cortes0, \"Kg pedidos\": kilos0, \"kg programados\":kilosprod0, \"bobinas\": bobinas0}\n",
        "        dfutil0 = pd.DataFrame(dictutil0)\n",
        "       \n",
        "        #pedidos = dict(zip(cortes,bobinas))\n",
        "        df_pedidos = dfutil0.loc[dfutil0.index.repeat(dfutil0.bobinas)]     \n",
        "        a = df_pedidos.value_counts('formato')\n",
        "        pedidos = dict(sorted(a.items()))\n",
        "        cortes = list(pedidos.keys())\n",
        "        bobinas = list(pedidos.values())\n",
        "        \n",
        "        return cortes, pedidos, bobinas, dfutil0  \n",
        "    \n",
        "def combinaciones(cortes, pedidos, val_min): \n",
        "        bob = []\n",
        "        num = []\n",
        "        val_max = 383\n",
        "\n",
        "        for i in (range(2,len(cortes)+1)):\n",
        "            bob.append(cortes[:i])\n",
        "            num.append(i-1)\n",
        "        bob.reverse()\n",
        "        dict_comb = dict(zip(num,bob))\n",
        "        \n",
        "\n",
        "        posibles = []\n",
        "        for u in dict_comb:\n",
        "            for i in dict_comb[u]:\n",
        "                if val_min <= max(dict_comb[u]) + i <= val_max:\n",
        "                    a = (max(dict_comb[u]),i)\n",
        "                    posibles.append(a)\n",
        "                for o in pedidos:\n",
        "                    if val_min <= max(dict_comb[u]) + o + i <= val_max and i <= o:\n",
        "                        b = (max(dict_comb[u]),i,o)\n",
        "                        posibles.append(b)\n",
        "                    \n",
        "        minimo = cortes[0]\n",
        "        if val_min <= minimo * 3 <= val_max:\n",
        "            posibles.append((minimo,minimo,minimo))\n",
        "            \n",
        "        if val_min <= minimo * 4 <= val_max:\n",
        "            posibles.append((minimo, minimo, minimo, minimo))\n",
        "            \n",
        "        paysan = []\n",
        "        a = [ ]\n",
        "        for j in cortes: \n",
        "            for i in posibles:       \n",
        "                a.append(i.count(j))\n",
        "                \n",
        "        b = []        \n",
        "        for i in range(0, len(a), len(posibles)):\n",
        "            b.append(a[i:i+ len(posibles)])\n",
        "            \n",
        "        for i in posibles:\n",
        "            if sum(i)<370:\n",
        "                paysan.append(383-sum(i))\n",
        "            else:\n",
        "                paysan.append(0)  \n",
        "                \n",
        "        dic_pulp = dict(zip(range(len(cortes)),b))\n",
        "        dic_pulp['posibles'] = posibles\n",
        "        dic_pulp['banda'] = paysan\n",
        "        df = pd.DataFrame(dic_pulp)\n",
        "        \n",
        "        return posibles, paysan, df\n",
        "    \n",
        "def solmatriz(df,cortes,posibles,bobinas, d, peso, E, pedidos, dfutil0):\n",
        "    m = sum(d)\n",
        "    clientes = []\n",
        "    for i in range(len(cortes)):\n",
        "        a = str(i)\n",
        "        clientes.append(a)\n",
        "    \n",
        "\n",
        "    minimos = [\"minimouno\",\"minimodos\",\"minimotres\",\"minimocuatro\",\"minimocinco\",\"minimoseis\",\"minimosiete\",\"minimoocho\",\"minimonueve\", \"minimodiez\",\"minimoonce\",\"minimodoce\",\"minimotrece\",\"minimocatorce\",\"minimoquince\",\"minimodieciseis\",\"minimodiecisiete\",\"minimodieciocho\",\"minimodiecinueve\",\"minimoveinte\",\"minimoveintiuno\",\"minimoveintidos\",\"minimoveintitres\",\n",
        "               \"minimoveinticuatro\",\"minimoveinticinco\",\"minimoveintiseis\",\"minimoveintisiete\",\"minimoveintiocho\",\"minimoveintinueve\",\"minimotreinta\",\"minimotreintaiuno\",\"minimotreintaidos\",\"minimotreintaitres\",\"minimotreintaicuatro\",\"minimotreintaicinco\",\"minimotreintaiseis\",\"minimotreintaisiete\",\"minimotreintaiocho\",\"minimotreintainueve\",\"minimocuarenta\",\"minimocuarentaiuno\",\"minimocuarentaidos\",\"minimocuarentaitres\",\n",
        "               \"minimocuarentaicuatro\",\"minimocuarentaicinco\",\"minimocuarentaiseis\",\"minimocuarentaisiete\",\"minimocuarentaiocho\",\"minimocuarentainueve\",\"minimocincuenta\"]\n",
        "    maximos = [\"maximouno\",\"maximodos\",\"maximotres\",\"maximocuatro\",\"maximocinco\",\"maximoseis\",\"maximosiete\",\"maximoocho\",\"maximonueve\",\"maximodiez\",\"maximoonce\",\"maximodoce\",\"maximotrece\",\"maximocatorce\",\"maximoquince\",\"maximodieciseis\",\"maximodiecisiete\",\"maximodieciocho\",\"maximodiecinueve\",\"maximoveinte\",\"maximoveintinuo\",\"maximoveintidos\",\n",
        "               \"maximoveintitre\",\"maximoveinticuatro\",\"maximoveinticinco\",\"maximoveintiseis\",\"maximoveintisiete\",\"maximoveintiocho\",\"maximoveintinueve\",\"maximotreinta\",\"maximotreintaiuno\",\"maximotreintaidos\",\"maximotreintaitres\",\"maximotreintaicuatro\",\"maximotreintaicinco\",\"maximotreintaiseis\",\"maximotreintaisieta\",\"maximotreintaiocho\",\"maximotreintainueve\",\"maximocuarenta\",\"maximocuarentaiuno\",\"maximocuarentaidos\",\n",
        "               \"maximocuarentaitres\",\"maximocuarentaicuatro\",\"maximocuarentaicinco\",\"maximocuarentaiseis\",\"maximocuarentisiete\",\"maximocuarentaiocho\",\"maximocuarentainueve\",\"maximocincuenta\"]   \n",
        "    problema = LpProblem(\"Problemacombinacion\",LpMinimize)\n",
        "    posibles = list(df['posibles'])\n",
        "    banda = dict(zip(posibles, df['banda']))\n",
        "\n",
        "    posibles_vars = LpVariable.dicts(\"posibles\", posibles, 0, cat='Integer')\n",
        "\n",
        "    problema += lpSum([banda[i]*posibles_vars[i] for i in posibles]), \"banda total de la produccion\"\n",
        "\n",
        "    for i in range(len(cortes)):       \n",
        "        clientes[i] = dict(zip(posibles,df[i]))\n",
        "        problema += lpSum([clientes[i][f] * posibles_vars[f] for f in posibles]) >= bobinas[i], minimos[i]\n",
        "        problema += lpSum([clientes[i][f] * posibles_vars[f] for f in posibles]) <= bobinas[i]+E[i], maximos[i]\n",
        "\n",
        "## Interpretacion y resolucion de la matriz a partir de las restricciones del problema\n",
        "    resultado  = {}\n",
        "    problema.writeLP(\"SimplecombProblem.lp\")\n",
        "    problema.solve()\n",
        "    resultado = []\n",
        "    cantidad = []\n",
        "    print(\"Status:\", LpStatus[problema.status])\n",
        "    print(\"La combinacion balanceada óptima(menor banda), donde cada unidad equivale a 1 comb, consiste de\\n\"+\"-\"*110)\n",
        "    for v in problema.variables():\n",
        "        if v.varValue>0:\n",
        "            resultado.append(v.name)\n",
        "            cantidad.append(int(v.varValue))\n",
        "    peso_banda = (value(problema.objective))*peso/2/383\n",
        "    kilos = 'la cantidad de banda producida es :' ,round(peso_banda,2), 'kg'\n",
        "    kilos_st = str(kilos)\n",
        "    n = (peso_banda * 100 ) / m\n",
        "    print(\"El total de kg producidos : \", round(m+peso_banda,2) , \"kg\")\n",
        "    print(\"El total de banda producida es de: \", round(peso_banda,2), \"kg\")\n",
        "    print(\"El porcentaje de banda producida es de: \", round(n,2), \"%\")\n",
        "## convierto de archivo lp a una lista de int para poder manipular los datos introduciendo la pasta a cada corte\n",
        "## luego los convierto a str para exportar a excel\n",
        "    povarval = []\n",
        "    povarkeys = []\n",
        "    for i in posibles_vars:\n",
        "        povarval.append(str(posibles_vars[i]))\n",
        "        povarkeys.append(i)\n",
        "    dic = dict(zip(povarkeys,povarval))\n",
        "\n",
        "    claves = []\n",
        "    def clave(dic, value):\n",
        "        return [key for key, val in dic.items() if val == value]\n",
        "    for i in resultado:  \n",
        "        keys = clave(dic, i)\n",
        "        claves.append(keys)\n",
        "    pastas = []\n",
        "    for i in range(len(claves)):\n",
        "        if sum(claves[i][0])<370:\n",
        "            pastas.append(383-sum(claves[i][0]))\n",
        "        else:\n",
        "            pastas.append(0)  \n",
        "    a = []\n",
        "    for i in range(len(claves)):\n",
        "        a.append(list(claves[i][0]))\n",
        "    for i in range(len(claves)):\n",
        "        claves[i].append(pastas[i])\n",
        "    lista = []\n",
        "    for i in range(len(claves)):\n",
        "        a = claves[i][0]\n",
        "        b = list(a)\n",
        "        lista.append(b)\n",
        "    pastas\n",
        "    for i in range(len(claves)):\n",
        "        lista[i].append(pastas[i])\n",
        "    cantidad1 = []\n",
        "    for i in range((len(cantidad))):\n",
        "        cantidad1.append(cantidad[i]*3500)\n",
        "    #for i in range(len(cantidad1)):\n",
        "        #print(lista[i], \"=\", cantidad1[i])\n",
        "    lista4 = []\n",
        "    for i in lista:\n",
        "        a = str(i)\n",
        "        lista4.append(a)\n",
        "    diccionariofinal = {\"Cortes\":lista4, \"cantidad\":cantidad1, \"bajadas\":cantidad}\n",
        "    programa = pd.DataFrame(diccionariofinal)\n",
        "    \n",
        "    dic_solucion = dict(zip(lista4,cantidad))\n",
        "    sumvariables = []\n",
        "    listafinal = []\n",
        "    totales = []\n",
        "    for i in range(len(lista)):\n",
        "        for o in range(len(lista[i])):\n",
        "            for j in range(cantidad[i]):\n",
        "                totales.append(lista[i][o])\n",
        "    df = {'prod':totales}\n",
        "    df1 = pd.DataFrame(df)\n",
        "    total_producido = df1['prod'].value_counts()\n",
        "    ## se ordena el programa segun ancho maximo de las bajadas para no tener que estar modificando cosntantemente el ancho en maquina\n",
        "    lista\n",
        "    ancho_maximo = []\n",
        "    for i in lista:\n",
        "        a = sum(i)\n",
        "        ancho_maximo.append(a)\n",
        "    programa['ancho'] = ancho_maximo\n",
        "    programa = programa.sort_values('ancho')\n",
        "\n",
        "    total_formatos = list(total_producido.index)\n",
        "    total_cantidad = list(total_producido.values)\n",
        "    total = dict(zip(total_formatos,total_cantidad))\n",
        "    dict1 = total\n",
        "    dict2 = pedidos\n",
        "    dict3 = defaultdict(list)\n",
        "    for k, v in chain(dict1.items(), dict2.items()):\n",
        "        dict3[k].append(v)\n",
        "\n",
        "        valores = list(dict3.values())\n",
        "        claves = list(dict3.keys())\n",
        "    k = []\n",
        "    j = []\n",
        "    l = []\n",
        "    n = []\n",
        "    for i in range(len(valores)):\n",
        "      if len(valores[i])>1:\n",
        "        k.append(valores[i][0])\n",
        "        l.append(valores[i][1])\n",
        "        j.append(claves[i])\n",
        "        n.append(valores[i][0]-valores[i][1])\n",
        "\n",
        "    diccionario_pedids = {'corte':j,'pedidos':l,'fabricado':k,'complemento':n}\n",
        "    df_ped = pd.DataFrame(diccionario_pedids)\n",
        "\n",
        "    for i in range(len(df_ped['complemento'])):\n",
        "      if df_ped['complemento'][i] != 0:\n",
        "        dfutil0=dfutil0.append({'IV' : 'COMPLEMENTO' , 'formato' : df_ped['corte'][i], 'bobinas' : df_ped['complemento'][i]} , ignore_index=True)\n",
        "    diccionario = {'lista':lista, 'cantidad':cantidad}\n",
        "    programanuevo = pd.DataFrame(diccionario)\n",
        "    programa1 = programanuevo.loc[programanuevo.index.repeat(programanuevo.cantidad)]     \n",
        "    programa2 = programa1.reset_index(drop=True)\n",
        "    dfutil1 = dfutil0.loc[dfutil0.index.repeat(dfutil0.bobinas)]  \n",
        "    dfutil2 = dfutil1.reset_index(drop=True)\n",
        "\n",
        "    nueva_lista = []\n",
        "    dfutil3 = dfutil2\n",
        "    for x in programa2['lista']:\n",
        "      a = x[:-1]\n",
        "      nueva_lista.append(a)\n",
        "    lista_final = []\n",
        "    for x in nueva_lista:\n",
        "      lista_temp = []\n",
        "      lista_final.append(lista_temp)\n",
        "      for i in x:\n",
        "        a = 0    \n",
        "        while dfutil3['formato'][a] != i:\n",
        "          a = a + 1\n",
        "        else:\n",
        "         lista_temp.append(str(dfutil3['formato'][a])+' ('+'IV: '+str(dfutil3['IV'][a])+')')\n",
        "         dfutil3 = dfutil3.drop(a).reset_index(drop=True)\n",
        "     \n",
        "    lista_str = []\n",
        "    for x in lista_final:\n",
        "      lista_str.append(str(x))\n",
        "    a = {'lista':lista_str}\n",
        "    b = pd.DataFrame(a)\n",
        "    d = []\n",
        "    programa_iv = b.value_counts()\n",
        "    cortes_prog = list(programa_iv.index)\n",
        "    bajadas_prog = list(programa_iv.values)\n",
        "    dic4 = {'corte':cortes_prog,'bajadas':bajadas_prog}\n",
        "    df4 = pd.DataFrame(dic4)\n",
        "    return(programa, total, lista, cantidad, df4, df_ped )\n"
      ],
      "id": "0dafef3e-87c7-4019-bf81-2d0b7a5d6c80",
      "execution_count": null,
      "outputs": [
        {
          "output_type": "stream",
          "name": "stdout",
          "text": [
            "Collecting pulp\n",
            "  Downloading PuLP-2.6.0-py3-none-any.whl (14.2 MB)\n",
            "\u001b[K     |████████████████████████████████| 14.2 MB 1.6 MB/s \n",
            "\u001b[?25hInstalling collected packages: pulp\n",
            "Successfully installed pulp-2.6.0\n"
          ]
        }
      ]
    },
    {
      "cell_type": "code",
      "source": [
        "#@title Importacion de datos: los siguientes datos son los formatos en orden ascendente\n",
        "## ingreso de variables importantes: cantidad de pedidos, valor minimo, valor maximo,\n",
        "## planilla excel(clientes, columna FTO y columna PED)           \n",
        "## datos del archivo excel.\n",
        "File = pd.read_excel('pedidos.xlsx')\n",
        "data_base = pd.DataFrame(File)\n",
        "#ordenes = len(data_base['IV'])\n",
        "ordenes = 300\n",
        "#columna de formatos\n",
        "b = File[\"FTO\"][:ordenes]\n",
        "#columna de kg\n",
        "d = File[\"SALDO\"][:ordenes]\n",
        "#columna de clientes\n",
        "cliente = File[\"IV\"][:ordenes]\n",
        "##aca van la cantidad de filas del excel:\n",
        "val_max = 383\n",
        "## el error a aplicar se lo debe modificar en orden de menor a mayor para cada uno de los formatos.\n",
        "peso = 7000    \n",
        "cortes, pedidos, bobinas, dfutil0 = ordenamiento(ordenes, peso, b, d, cliente)\n",
        "print(pedidos)"
      ],
      "metadata": {
        "colab": {
          "base_uri": "https://localhost:8080/"
        },
        "id": "L2rTrDA34fcA",
        "outputId": "243b6ef1-de83-4e11-81a5-1edd1304c959",
        "cellView": "form"
      },
      "id": "L2rTrDA34fcA",
      "execution_count": null,
      "outputs": [
        {
          "output_type": "stream",
          "name": "stdout",
          "text": [
            "{80: 4, 85: 4, 90: 8, 105: 59, 111: 5, 115: 7, 120: 4, 125: 37, 145: 8, 150: 19, 155: 16, 160: 47, 165: 14, 170: 3, 180: 71, 188: 16, 190: 50, 200: 99, 205: 4, 213: 27, 215: 10, 220: 16, 225: 6, 226: 17, 230: 24, 235: 5, 245: 11, 255: 7}\n"
          ]
        }
      ]
    },
    {
      "cell_type": "markdown",
      "source": [
        "### Ingresar la cantidad de bobinas de mas permitidas para cada formato en forma ascendente"
      ],
      "metadata": {
        "id": "mB2FB5Ki6zkd"
      },
      "id": "mB2FB5Ki6zkd"
    },
    {
      "cell_type": "code",
      "source": [
        "E = [0,0,0,0,0,0,0,0,0,0,0,0,0,0,0,0,0,0,0,0,0,0,0,0,0,0,0,0,0,0,0,0,0,0,0,0,0,0,0,0,0,0,0,0,0,0,0,0,0,0]\n"
      ],
      "metadata": {
        "id": "KHZ9vMkM4fn3"
      },
      "id": "KHZ9vMkM4fn3",
      "execution_count": null,
      "outputs": []
    },
    {
      "cell_type": "markdown",
      "source": [
        "### Maximo de banda permitido por bajada"
      ],
      "metadata": {
        "id": "JtBNiUuc9pav"
      },
      "id": "JtBNiUuc9pav"
    },
    {
      "cell_type": "code",
      "source": [
        "Banda = 33"
      ],
      "metadata": {
        "id": "ru5Lh6f79tRy"
      },
      "id": "ru5Lh6f79tRy",
      "execution_count": null,
      "outputs": []
    },
    {
      "cell_type": "code",
      "source": [
        "#@title Resolucion\n",
        "val_min = 383-Banda\n",
        "posibles, paysan, df = combinaciones(cortes, pedidos, val_min)\n",
        "programa, total_producido, lista, cantidad, df4, df_ped = solmatriz(df,cortes,posibles,bobinas,d, peso, E, pedidos, dfutil0)\n",
        "\n",
        "data_null = {}\n",
        "df_null = pd.DataFrame(data_null)\n",
        "df_null.to_excel('Reporte.xlsx', index = False) \n",
        "writer = pd.ExcelWriter('Reporte.xlsx')\n",
        "dfutil0.to_excel(writer, 'Informe pedidos', index = False)\n",
        "programa.to_excel(writer, 'OP con banda', index = False)\n",
        "df4.to_excel(writer, 'OP con IV', index = False)\n",
        "df_ped.to_excel(writer, 'Informe de Produccion', index = False)\n",
        "writer.save()\n",
        "writer.close()\n"
      ],
      "metadata": {
        "colab": {
          "base_uri": "https://localhost:8080/"
        },
        "id": "sOy7IJHa4xAA",
        "outputId": "ba508ac4-f3d2-41cb-a2df-db187d2692ab",
        "cellView": "form"
      },
      "id": "sOy7IJHa4xAA",
      "execution_count": null,
      "outputs": [
        {
          "output_type": "stream",
          "name": "stdout",
          "text": [
            "Status: Optimal\n",
            "La combinacion balanceada óptima(menor banda), donde cada unidad equivale a 1 comb, consiste de\n",
            "--------------------------------------------------------------------------------------------------------------\n",
            "El total de kg producidos :  984536.55 kg\n",
            "El total de banda producida es de:  21036.55 kg\n",
            "El porcentaje de banda producida es de:  2.18 %\n"
          ]
        }
      ]
    },
    {
      "cell_type": "code",
      "metadata": {
        "id": "f72a868f-60df-4feb-8c4a-652e1e3d7ad3"
      },
      "source": [
        ""
      ],
      "id": "f72a868f-60df-4feb-8c4a-652e1e3d7ad3",
      "execution_count": null,
      "outputs": []
    },
    {
      "cell_type": "code",
      "metadata": {
        "id": "P9e953p2DSZy"
      },
      "source": [
        ""
      ],
      "id": "P9e953p2DSZy",
      "execution_count": null,
      "outputs": []
    },
    {
      "cell_type": "code",
      "metadata": {
        "id": "o9d9pGCCqipc"
      },
      "source": [
        ""
      ],
      "id": "o9d9pGCCqipc",
      "execution_count": null,
      "outputs": []
    },
    {
      "cell_type": "code",
      "metadata": {
        "id": "YEK2UcxA6q74"
      },
      "source": [
        ""
      ],
      "id": "YEK2UcxA6q74",
      "execution_count": null,
      "outputs": []
    },
    {
      "cell_type": "code",
      "metadata": {
        "id": "YEpj42z_B2qx"
      },
      "source": [
        ""
      ],
      "id": "YEpj42z_B2qx",
      "execution_count": null,
      "outputs": []
    },
    {
      "cell_type": "code",
      "metadata": {
        "id": "blhaI0uoQMwP"
      },
      "source": [
        ""
      ],
      "id": "blhaI0uoQMwP",
      "execution_count": null,
      "outputs": []
    },
    {
      "cell_type": "code",
      "metadata": {
        "id": "dRXKXnPlh3Si"
      },
      "source": [
        ""
      ],
      "id": "dRXKXnPlh3Si",
      "execution_count": null,
      "outputs": []
    },
    {
      "cell_type": "code",
      "metadata": {
        "id": "M_nHwvl8kky4"
      },
      "source": [
        ""
      ],
      "id": "M_nHwvl8kky4",
      "execution_count": null,
      "outputs": []
    }
  ]
}